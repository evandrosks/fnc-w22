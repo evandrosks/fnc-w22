{
  "cells": [
    {
      "cell_type": "markdown",
      "source": [
        "# Setup Notebook"
      ],
      "metadata": {
        "id": "xjWjU9ncCVsq"
      },
      "id": "xjWjU9ncCVsq"
    },
    {
      "cell_type": "markdown",
      "source": [
        "## Mount to Drive"
      ],
      "metadata": {
        "id": "U3uw8A1dCZlS"
      },
      "id": "U3uw8A1dCZlS"
    },
    {
      "cell_type": "code",
      "execution_count": null,
      "id": "fbcba5d1",
      "metadata": {
        "id": "fbcba5d1"
      },
      "outputs": [],
      "source": [
        "from google.colab import drive\n",
        "drive.mount('/content/gdrive')"
      ]
    },
    {
      "cell_type": "markdown",
      "source": [
        "## Install dependencies"
      ],
      "metadata": {
        "id": "wvFzGLdkCYg8"
      },
      "id": "wvFzGLdkCYg8"
    },
    {
      "cell_type": "code",
      "source": [
        ""
      ],
      "metadata": {
        "id": "nAyvyWwrCbhn"
      },
      "id": "nAyvyWwrCbhn",
      "execution_count": null,
      "outputs": []
    },
    {
      "cell_type": "markdown",
      "source": [
        "## Load Imports"
      ],
      "metadata": {
        "id": "vQ-U_6FCCkMs"
      },
      "id": "vQ-U_6FCCkMs"
    },
    {
      "cell_type": "code",
      "source": [
        ""
      ],
      "metadata": {
        "id": "9-E4HkW6Cbgz"
      },
      "id": "9-E4HkW6Cbgz",
      "execution_count": null,
      "outputs": []
    }
  ],
  "metadata": {
    "kernelspec": {
      "display_name": "Python 3 (ipykernel)",
      "language": "python",
      "name": "python3"
    },
    "language_info": {
      "codemirror_mode": {
        "name": "ipython",
        "version": 3
      },
      "file_extension": ".py",
      "mimetype": "text/x-python",
      "name": "python",
      "nbconvert_exporter": "python",
      "pygments_lexer": "ipython3",
      "version": "3.8.10"
    },
    "colab": {
      "name": "transformers.ipynb",
      "provenance": []
    }
  },
  "nbformat": 4,
  "nbformat_minor": 5
}