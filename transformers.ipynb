{
  "cells": [
    {
      "cell_type": "markdown",
      "source": [
        "# Setup Notebook"
      ],
      "metadata": {
        "id": "xjWjU9ncCVsq"
      },
      "id": "xjWjU9ncCVsq"
    },
    {
      "cell_type": "markdown",
      "source": [
        "## Mount to Drive"
      ],
      "metadata": {
        "id": "U3uw8A1dCZlS"
      },
      "id": "U3uw8A1dCZlS"
    },
    {
      "cell_type": "code",
      "execution_count": 1,
      "id": "fbcba5d1",
      "metadata": {
        "colab": {
          "base_uri": "https://localhost:8080/"
        },
        "id": "fbcba5d1",
        "outputId": "f6f44faa-db4a-4bfb-8f15-e28473652d48"
      },
      "outputs": [
        {
          "output_type": "stream",
          "name": "stdout",
          "text": [
            "Mounted at /content/gdrive\n"
          ]
        }
      ],
      "source": [
        "from google.colab import drive\n",
        "drive.mount('/content/gdrive')"
      ]
    },
    {
      "cell_type": "markdown",
      "source": [
        "## Install dependencies"
      ],
      "metadata": {
        "id": "wvFzGLdkCYg8"
      },
      "id": "wvFzGLdkCYg8"
    },
    {
      "cell_type": "code",
      "source": [
        ""
      ],
      "metadata": {
        "id": "nAyvyWwrCbhn"
      },
      "id": "nAyvyWwrCbhn",
      "execution_count": null,
      "outputs": []
    },
    {
      "cell_type": "markdown",
      "source": [
        "## Load Imports"
      ],
      "metadata": {
        "id": "vQ-U_6FCCkMs"
      },
      "id": "vQ-U_6FCCkMs"
    },
    {
      "cell_type": "code",
      "source": [
        "import numpy as np\n",
        "import pandas as pd\n",
        "\n",
        "from pathlib import Path"
      ],
      "metadata": {
        "id": "9-E4HkW6Cbgz"
      },
      "id": "9-E4HkW6Cbgz",
      "execution_count": 9,
      "outputs": []
    },
    {
      "cell_type": "markdown",
      "source": [
        "# Configuration File"
      ],
      "metadata": {
        "id": "2dpF0TsFEa3W"
      },
      "id": "2dpF0TsFEa3W"
    },
    {
      "cell_type": "code",
      "source": [
        "config = {}"
      ],
      "metadata": {
        "id": "5gFa8Xb1EcKU"
      },
      "id": "5gFa8Xb1EcKU",
      "execution_count": null,
      "outputs": []
    },
    {
      "cell_type": "markdown",
      "source": [
        "# Train Model"
      ],
      "metadata": {
        "id": "169hE_60C27_"
      },
      "id": "169hE_60C27_"
    },
    {
      "cell_type": "markdown",
      "source": [
        "## Load Data"
      ],
      "metadata": {
        "id": "o0xuaNiAC49B"
      },
      "id": "o0xuaNiAC49B"
    },
    {
      "cell_type": "code",
      "source": [
        "def read_data(path: str, name: str):\n",
        "    '''Reads csv file\n",
        "    \n",
        "    Args:\n",
        "        path (str): parent directory to file\n",
        "        name (str): type of csv to load (train or test)\n",
        "        \n",
        "    Returns:\n",
        "        pandas.core.frame.DataFrame of joined bodies and stances        \n",
        "    '''\n",
        "    df = pd.read_csv(f'{path}/{name}.csv')\n",
        "    return df"
      ],
      "metadata": {
        "id": "zvrI5EAYC4JX"
      },
      "id": "zvrI5EAYC4JX",
      "execution_count": 13,
      "outputs": []
    },
    {
      "cell_type": "code",
      "source": [
        "def extract_columns(df: pd.core.frame.DataFrame, columns: list = ['Headline', 'articleBody', 'Stance'],\n",
        "                    new_columns: list = ['text_a', 'text_b', 'labels']):\n",
        "    '''Load certain columns of dataframe and transform to desired format\n",
        "    \n",
        "    Args:\n",
        "        df (pd.core.frame.DataFrame): DataFrame of extracted columns\n",
        "        columns (list): Column names to extract\n",
        "        new_columns (list): New column names\n",
        "    \n",
        "    Returns:\n",
        "        Extracted dataframe with new columns\n",
        "    '''\n",
        "    processed_df = df[columns]\n",
        "    processed_df.columns = new_columns\n",
        "    return processed_df"
      ],
      "metadata": {
        "id": "VbKL8OuXDBKG"
      },
      "id": "VbKL8OuXDBKG",
      "execution_count": 14,
      "outputs": []
    },
    {
      "cell_type": "code",
      "source": [
        "def encod_labels(df):\n",
        "    '''Encod label strings to ints\n",
        "    \n",
        "    Args:\n",
        "        df (pd.core.frame.DataFrame): DataFrame to encod labels\n",
        "    \n",
        "    Returns:\n",
        "        df (pd.core.frame.DataFrame) with encoded labels\n",
        "    '''\n",
        "    labels = df['labels'].unique()\n",
        "    label_dict = {}\n",
        "    \n",
        "    for i, l in enumerate(labels):\n",
        "        label_dict[l] = i\n",
        "    \n",
        "    encoded_df = df.replace({\"labels\": label_dict})\n",
        "    return encoded_df, label_dict"
      ],
      "metadata": {
        "id": "Bgtn67aKDRD_"
      },
      "id": "Bgtn67aKDRD_",
      "execution_count": 15,
      "outputs": []
    },
    {
      "cell_type": "code",
      "source": [
        "def load_data(path: str, name: str):\n",
        "    '''Read and process csv to desired format\n",
        "    \n",
        "    Args:\n",
        "        path (str): parent directory to file\n",
        "        name (str): type of csv to load (train or test)\n",
        "    \n",
        "    Returns:\n",
        "        Preprocessed data\n",
        "    '''\n",
        "    df = read_data(path, name)\n",
        "    processed_df = extract_columns(df)\n",
        "    encoded_df, l2e = encod_labels(processed_df)\n",
        "    return encoded_df, l2e"
      ],
      "metadata": {
        "id": "3baYTyVBDBMb"
      },
      "id": "3baYTyVBDBMb",
      "execution_count": 16,
      "outputs": []
    },
    {
      "cell_type": "code",
      "source": [
        "path = Path('gdrive/MyDrive/Dataset/msci/project/')"
      ],
      "metadata": {
        "id": "nC48srNxDbyU"
      },
      "id": "nC48srNxDbyU",
      "execution_count": 17,
      "outputs": []
    },
    {
      "cell_type": "code",
      "source": [
        "! ls {path}"
      ],
      "metadata": {
        "id": "eWgnEuz3DaOg",
        "outputId": "9f154eca-da38-45db-9ef2-1e5f9d8528d4",
        "colab": {
          "base_uri": "https://localhost:8080/"
        }
      },
      "id": "eWgnEuz3DaOg",
      "execution_count": 18,
      "outputs": [
        {
          "output_type": "stream",
          "name": "stdout",
          "text": [
            "test.csv  train.csv\n"
          ]
        }
      ]
    },
    {
      "cell_type": "code",
      "source": [
        "train, l2e = load_data(path, 'train')\n",
        "test, _ = load_data(path, 'test')\n",
        "print(l2e)"
      ],
      "metadata": {
        "colab": {
          "base_uri": "https://localhost:8080/"
        },
        "id": "CpdJYQrjDBOg",
        "outputId": "108c879e-04b7-47f3-cdcd-1db2020b12ea"
      },
      "id": "CpdJYQrjDBOg",
      "execution_count": 21,
      "outputs": [
        {
          "output_type": "stream",
          "name": "stdout",
          "text": [
            "{'unrelated': 0, 'agree': 1, 'disagree': 2, 'discuss': 3}\n"
          ]
        }
      ]
    },
    {
      "cell_type": "code",
      "source": [
        "train.head()"
      ],
      "metadata": {
        "id": "iAwvUR5NERbT",
        "outputId": "7ad61138-5f36-4f53-ee8f-333d973562ab",
        "colab": {
          "base_uri": "https://localhost:8080/",
          "height": 206
        }
      },
      "id": "iAwvUR5NERbT",
      "execution_count": 22,
      "outputs": [
        {
          "output_type": "execute_result",
          "data": {
            "text/plain": [
              "                                              text_a  \\\n",
              "0  Police find mass graves with at least '15 bodi...   \n",
              "1  Hundreds of Palestinians flee floods in Gaza a...   \n",
              "2  Christian Bale passes on role of Steve Jobs, a...   \n",
              "3  HBO and Apple in Talks for $15/Month Apple TV ...   \n",
              "4  Spider burrowed through tourist's stomach and ...   \n",
              "\n",
              "                                              text_b  labels  \n",
              "0  Danny Boyle is directing the untitled film\\n\\n...       0  \n",
              "1  Hundreds of Palestinians were evacuated from t...       1  \n",
              "2  30-year-old Moscow resident was hospitalized w...       0  \n",
              "3  (Reuters) - A Canadian soldier was shot at the...       0  \n",
              "4  Fear not arachnophobes, the story of Bunbury's...       2  "
            ],
            "text/html": [
              "\n",
              "  <div id=\"df-82a2ae2e-83e0-4567-b5ab-eac0cd3accfa\">\n",
              "    <div class=\"colab-df-container\">\n",
              "      <div>\n",
              "<style scoped>\n",
              "    .dataframe tbody tr th:only-of-type {\n",
              "        vertical-align: middle;\n",
              "    }\n",
              "\n",
              "    .dataframe tbody tr th {\n",
              "        vertical-align: top;\n",
              "    }\n",
              "\n",
              "    .dataframe thead th {\n",
              "        text-align: right;\n",
              "    }\n",
              "</style>\n",
              "<table border=\"1\" class=\"dataframe\">\n",
              "  <thead>\n",
              "    <tr style=\"text-align: right;\">\n",
              "      <th></th>\n",
              "      <th>text_a</th>\n",
              "      <th>text_b</th>\n",
              "      <th>labels</th>\n",
              "    </tr>\n",
              "  </thead>\n",
              "  <tbody>\n",
              "    <tr>\n",
              "      <th>0</th>\n",
              "      <td>Police find mass graves with at least '15 bodi...</td>\n",
              "      <td>Danny Boyle is directing the untitled film\\n\\n...</td>\n",
              "      <td>0</td>\n",
              "    </tr>\n",
              "    <tr>\n",
              "      <th>1</th>\n",
              "      <td>Hundreds of Palestinians flee floods in Gaza a...</td>\n",
              "      <td>Hundreds of Palestinians were evacuated from t...</td>\n",
              "      <td>1</td>\n",
              "    </tr>\n",
              "    <tr>\n",
              "      <th>2</th>\n",
              "      <td>Christian Bale passes on role of Steve Jobs, a...</td>\n",
              "      <td>30-year-old Moscow resident was hospitalized w...</td>\n",
              "      <td>0</td>\n",
              "    </tr>\n",
              "    <tr>\n",
              "      <th>3</th>\n",
              "      <td>HBO and Apple in Talks for $15/Month Apple TV ...</td>\n",
              "      <td>(Reuters) - A Canadian soldier was shot at the...</td>\n",
              "      <td>0</td>\n",
              "    </tr>\n",
              "    <tr>\n",
              "      <th>4</th>\n",
              "      <td>Spider burrowed through tourist's stomach and ...</td>\n",
              "      <td>Fear not arachnophobes, the story of Bunbury's...</td>\n",
              "      <td>2</td>\n",
              "    </tr>\n",
              "  </tbody>\n",
              "</table>\n",
              "</div>\n",
              "      <button class=\"colab-df-convert\" onclick=\"convertToInteractive('df-82a2ae2e-83e0-4567-b5ab-eac0cd3accfa')\"\n",
              "              title=\"Convert this dataframe to an interactive table.\"\n",
              "              style=\"display:none;\">\n",
              "        \n",
              "  <svg xmlns=\"http://www.w3.org/2000/svg\" height=\"24px\"viewBox=\"0 0 24 24\"\n",
              "       width=\"24px\">\n",
              "    <path d=\"M0 0h24v24H0V0z\" fill=\"none\"/>\n",
              "    <path d=\"M18.56 5.44l.94 2.06.94-2.06 2.06-.94-2.06-.94-.94-2.06-.94 2.06-2.06.94zm-11 1L8.5 8.5l.94-2.06 2.06-.94-2.06-.94L8.5 2.5l-.94 2.06-2.06.94zm10 10l.94 2.06.94-2.06 2.06-.94-2.06-.94-.94-2.06-.94 2.06-2.06.94z\"/><path d=\"M17.41 7.96l-1.37-1.37c-.4-.4-.92-.59-1.43-.59-.52 0-1.04.2-1.43.59L10.3 9.45l-7.72 7.72c-.78.78-.78 2.05 0 2.83L4 21.41c.39.39.9.59 1.41.59.51 0 1.02-.2 1.41-.59l7.78-7.78 2.81-2.81c.8-.78.8-2.07 0-2.86zM5.41 20L4 18.59l7.72-7.72 1.47 1.35L5.41 20z\"/>\n",
              "  </svg>\n",
              "      </button>\n",
              "      \n",
              "  <style>\n",
              "    .colab-df-container {\n",
              "      display:flex;\n",
              "      flex-wrap:wrap;\n",
              "      gap: 12px;\n",
              "    }\n",
              "\n",
              "    .colab-df-convert {\n",
              "      background-color: #E8F0FE;\n",
              "      border: none;\n",
              "      border-radius: 50%;\n",
              "      cursor: pointer;\n",
              "      display: none;\n",
              "      fill: #1967D2;\n",
              "      height: 32px;\n",
              "      padding: 0 0 0 0;\n",
              "      width: 32px;\n",
              "    }\n",
              "\n",
              "    .colab-df-convert:hover {\n",
              "      background-color: #E2EBFA;\n",
              "      box-shadow: 0px 1px 2px rgba(60, 64, 67, 0.3), 0px 1px 3px 1px rgba(60, 64, 67, 0.15);\n",
              "      fill: #174EA6;\n",
              "    }\n",
              "\n",
              "    [theme=dark] .colab-df-convert {\n",
              "      background-color: #3B4455;\n",
              "      fill: #D2E3FC;\n",
              "    }\n",
              "\n",
              "    [theme=dark] .colab-df-convert:hover {\n",
              "      background-color: #434B5C;\n",
              "      box-shadow: 0px 1px 3px 1px rgba(0, 0, 0, 0.15);\n",
              "      filter: drop-shadow(0px 1px 2px rgba(0, 0, 0, 0.3));\n",
              "      fill: #FFFFFF;\n",
              "    }\n",
              "  </style>\n",
              "\n",
              "      <script>\n",
              "        const buttonEl =\n",
              "          document.querySelector('#df-82a2ae2e-83e0-4567-b5ab-eac0cd3accfa button.colab-df-convert');\n",
              "        buttonEl.style.display =\n",
              "          google.colab.kernel.accessAllowed ? 'block' : 'none';\n",
              "\n",
              "        async function convertToInteractive(key) {\n",
              "          const element = document.querySelector('#df-82a2ae2e-83e0-4567-b5ab-eac0cd3accfa');\n",
              "          const dataTable =\n",
              "            await google.colab.kernel.invokeFunction('convertToInteractive',\n",
              "                                                     [key], {});\n",
              "          if (!dataTable) return;\n",
              "\n",
              "          const docLinkHtml = 'Like what you see? Visit the ' +\n",
              "            '<a target=\"_blank\" href=https://colab.research.google.com/notebooks/data_table.ipynb>data table notebook</a>'\n",
              "            + ' to learn more about interactive tables.';\n",
              "          element.innerHTML = '';\n",
              "          dataTable['output_type'] = 'display_data';\n",
              "          await google.colab.output.renderOutput(dataTable, element);\n",
              "          const docLink = document.createElement('div');\n",
              "          docLink.innerHTML = docLinkHtml;\n",
              "          element.appendChild(docLink);\n",
              "        }\n",
              "      </script>\n",
              "    </div>\n",
              "  </div>\n",
              "  "
            ]
          },
          "metadata": {},
          "execution_count": 22
        }
      ]
    },
    {
      "cell_type": "code",
      "source": [
        "test.head()"
      ],
      "metadata": {
        "id": "HbratBCZET2M",
        "outputId": "4118d6c5-3b53-4d81-9440-14965b8275d5",
        "colab": {
          "base_uri": "https://localhost:8080/",
          "height": 206
        }
      },
      "id": "HbratBCZET2M",
      "execution_count": 23,
      "outputs": [
        {
          "output_type": "execute_result",
          "data": {
            "text/plain": [
              "                                              text_a  \\\n",
              "0  Ferguson riots: Pregnant woman loses eye after...   \n",
              "1  Crazy Conservatives Are Sure a Gitmo Detainee ...   \n",
              "2  A Russian Guy Says His Justin Bieber Ringtone ...   \n",
              "3  Zombie Cat: Buried Kitty Believed Dead, Meows ...   \n",
              "4  Argentina's President Adopts Boy to End Werewo...   \n",
              "\n",
              "                                              text_b  labels  \n",
              "0  A RESPECTED senior French police officer inves...       0  \n",
              "1  Dave Morin's social networking company Path is...       0  \n",
              "2  A bereaved Afghan mother took revenge on the T...       0  \n",
              "3  Hewlett-Packard is officially splitting in two...       0  \n",
              "4  An airline passenger headed to Dallas was remo...       0  "
            ],
            "text/html": [
              "\n",
              "  <div id=\"df-5fcbd47d-3a1c-41e1-a484-60ce9bd7d3ac\">\n",
              "    <div class=\"colab-df-container\">\n",
              "      <div>\n",
              "<style scoped>\n",
              "    .dataframe tbody tr th:only-of-type {\n",
              "        vertical-align: middle;\n",
              "    }\n",
              "\n",
              "    .dataframe tbody tr th {\n",
              "        vertical-align: top;\n",
              "    }\n",
              "\n",
              "    .dataframe thead th {\n",
              "        text-align: right;\n",
              "    }\n",
              "</style>\n",
              "<table border=\"1\" class=\"dataframe\">\n",
              "  <thead>\n",
              "    <tr style=\"text-align: right;\">\n",
              "      <th></th>\n",
              "      <th>text_a</th>\n",
              "      <th>text_b</th>\n",
              "      <th>labels</th>\n",
              "    </tr>\n",
              "  </thead>\n",
              "  <tbody>\n",
              "    <tr>\n",
              "      <th>0</th>\n",
              "      <td>Ferguson riots: Pregnant woman loses eye after...</td>\n",
              "      <td>A RESPECTED senior French police officer inves...</td>\n",
              "      <td>0</td>\n",
              "    </tr>\n",
              "    <tr>\n",
              "      <th>1</th>\n",
              "      <td>Crazy Conservatives Are Sure a Gitmo Detainee ...</td>\n",
              "      <td>Dave Morin's social networking company Path is...</td>\n",
              "      <td>0</td>\n",
              "    </tr>\n",
              "    <tr>\n",
              "      <th>2</th>\n",
              "      <td>A Russian Guy Says His Justin Bieber Ringtone ...</td>\n",
              "      <td>A bereaved Afghan mother took revenge on the T...</td>\n",
              "      <td>0</td>\n",
              "    </tr>\n",
              "    <tr>\n",
              "      <th>3</th>\n",
              "      <td>Zombie Cat: Buried Kitty Believed Dead, Meows ...</td>\n",
              "      <td>Hewlett-Packard is officially splitting in two...</td>\n",
              "      <td>0</td>\n",
              "    </tr>\n",
              "    <tr>\n",
              "      <th>4</th>\n",
              "      <td>Argentina's President Adopts Boy to End Werewo...</td>\n",
              "      <td>An airline passenger headed to Dallas was remo...</td>\n",
              "      <td>0</td>\n",
              "    </tr>\n",
              "  </tbody>\n",
              "</table>\n",
              "</div>\n",
              "      <button class=\"colab-df-convert\" onclick=\"convertToInteractive('df-5fcbd47d-3a1c-41e1-a484-60ce9bd7d3ac')\"\n",
              "              title=\"Convert this dataframe to an interactive table.\"\n",
              "              style=\"display:none;\">\n",
              "        \n",
              "  <svg xmlns=\"http://www.w3.org/2000/svg\" height=\"24px\"viewBox=\"0 0 24 24\"\n",
              "       width=\"24px\">\n",
              "    <path d=\"M0 0h24v24H0V0z\" fill=\"none\"/>\n",
              "    <path d=\"M18.56 5.44l.94 2.06.94-2.06 2.06-.94-2.06-.94-.94-2.06-.94 2.06-2.06.94zm-11 1L8.5 8.5l.94-2.06 2.06-.94-2.06-.94L8.5 2.5l-.94 2.06-2.06.94zm10 10l.94 2.06.94-2.06 2.06-.94-2.06-.94-.94-2.06-.94 2.06-2.06.94z\"/><path d=\"M17.41 7.96l-1.37-1.37c-.4-.4-.92-.59-1.43-.59-.52 0-1.04.2-1.43.59L10.3 9.45l-7.72 7.72c-.78.78-.78 2.05 0 2.83L4 21.41c.39.39.9.59 1.41.59.51 0 1.02-.2 1.41-.59l7.78-7.78 2.81-2.81c.8-.78.8-2.07 0-2.86zM5.41 20L4 18.59l7.72-7.72 1.47 1.35L5.41 20z\"/>\n",
              "  </svg>\n",
              "      </button>\n",
              "      \n",
              "  <style>\n",
              "    .colab-df-container {\n",
              "      display:flex;\n",
              "      flex-wrap:wrap;\n",
              "      gap: 12px;\n",
              "    }\n",
              "\n",
              "    .colab-df-convert {\n",
              "      background-color: #E8F0FE;\n",
              "      border: none;\n",
              "      border-radius: 50%;\n",
              "      cursor: pointer;\n",
              "      display: none;\n",
              "      fill: #1967D2;\n",
              "      height: 32px;\n",
              "      padding: 0 0 0 0;\n",
              "      width: 32px;\n",
              "    }\n",
              "\n",
              "    .colab-df-convert:hover {\n",
              "      background-color: #E2EBFA;\n",
              "      box-shadow: 0px 1px 2px rgba(60, 64, 67, 0.3), 0px 1px 3px 1px rgba(60, 64, 67, 0.15);\n",
              "      fill: #174EA6;\n",
              "    }\n",
              "\n",
              "    [theme=dark] .colab-df-convert {\n",
              "      background-color: #3B4455;\n",
              "      fill: #D2E3FC;\n",
              "    }\n",
              "\n",
              "    [theme=dark] .colab-df-convert:hover {\n",
              "      background-color: #434B5C;\n",
              "      box-shadow: 0px 1px 3px 1px rgba(0, 0, 0, 0.15);\n",
              "      filter: drop-shadow(0px 1px 2px rgba(0, 0, 0, 0.3));\n",
              "      fill: #FFFFFF;\n",
              "    }\n",
              "  </style>\n",
              "\n",
              "      <script>\n",
              "        const buttonEl =\n",
              "          document.querySelector('#df-5fcbd47d-3a1c-41e1-a484-60ce9bd7d3ac button.colab-df-convert');\n",
              "        buttonEl.style.display =\n",
              "          google.colab.kernel.accessAllowed ? 'block' : 'none';\n",
              "\n",
              "        async function convertToInteractive(key) {\n",
              "          const element = document.querySelector('#df-5fcbd47d-3a1c-41e1-a484-60ce9bd7d3ac');\n",
              "          const dataTable =\n",
              "            await google.colab.kernel.invokeFunction('convertToInteractive',\n",
              "                                                     [key], {});\n",
              "          if (!dataTable) return;\n",
              "\n",
              "          const docLinkHtml = 'Like what you see? Visit the ' +\n",
              "            '<a target=\"_blank\" href=https://colab.research.google.com/notebooks/data_table.ipynb>data table notebook</a>'\n",
              "            + ' to learn more about interactive tables.';\n",
              "          element.innerHTML = '';\n",
              "          dataTable['output_type'] = 'display_data';\n",
              "          await google.colab.output.renderOutput(dataTable, element);\n",
              "          const docLink = document.createElement('div');\n",
              "          docLink.innerHTML = docLinkHtml;\n",
              "          element.appendChild(docLink);\n",
              "        }\n",
              "      </script>\n",
              "    </div>\n",
              "  </div>\n",
              "  "
            ]
          },
          "metadata": {},
          "execution_count": 23
        }
      ]
    },
    {
      "cell_type": "code",
      "source": [
        ""
      ],
      "metadata": {
        "id": "Pps1brB_EW_z"
      },
      "id": "Pps1brB_EW_z",
      "execution_count": null,
      "outputs": []
    }
  ],
  "metadata": {
    "kernelspec": {
      "display_name": "Python 3 (ipykernel)",
      "language": "python",
      "name": "python3"
    },
    "language_info": {
      "codemirror_mode": {
        "name": "ipython",
        "version": 3
      },
      "file_extension": ".py",
      "mimetype": "text/x-python",
      "name": "python",
      "nbconvert_exporter": "python",
      "pygments_lexer": "ipython3",
      "version": "3.8.10"
    },
    "colab": {
      "name": "transformers.ipynb",
      "provenance": []
    }
  },
  "nbformat": 4,
  "nbformat_minor": 5
}