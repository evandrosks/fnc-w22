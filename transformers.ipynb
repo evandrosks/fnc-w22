{
  "cells": [
    {
      "cell_type": "markdown",
      "source": [
        "# Setup Notebook"
      ],
      "metadata": {
        "id": "xjWjU9ncCVsq"
      },
      "id": "xjWjU9ncCVsq"
    },
    {
      "cell_type": "markdown",
      "source": [
        "## Mount to Drive"
      ],
      "metadata": {
        "id": "U3uw8A1dCZlS"
      },
      "id": "U3uw8A1dCZlS"
    },
    {
      "cell_type": "code",
      "execution_count": null,
      "id": "fbcba5d1",
      "metadata": {
        "id": "fbcba5d1"
      },
      "outputs": [],
      "source": [
        "from google.colab import drive\n",
        "drive.mount('/content/gdrive')"
      ]
    },
    {
      "cell_type": "markdown",
      "source": [
        "## Install dependencies"
      ],
      "metadata": {
        "id": "wvFzGLdkCYg8"
      },
      "id": "wvFzGLdkCYg8"
    },
    {
      "cell_type": "code",
      "source": [
        ""
      ],
      "metadata": {
        "id": "nAyvyWwrCbhn"
      },
      "id": "nAyvyWwrCbhn",
      "execution_count": null,
      "outputs": []
    },
    {
      "cell_type": "markdown",
      "source": [
        "## Load Imports"
      ],
      "metadata": {
        "id": "vQ-U_6FCCkMs"
      },
      "id": "vQ-U_6FCCkMs"
    },
    {
      "cell_type": "code",
      "source": [
        ""
      ],
      "metadata": {
        "id": "9-E4HkW6Cbgz"
      },
      "id": "9-E4HkW6Cbgz",
      "execution_count": null,
      "outputs": []
    },
    {
      "cell_type": "markdown",
      "source": [
        "# Train Model"
      ],
      "metadata": {
        "id": "169hE_60C27_"
      },
      "id": "169hE_60C27_"
    },
    {
      "cell_type": "markdown",
      "source": [
        "## Load Data"
      ],
      "metadata": {
        "id": "o0xuaNiAC49B"
      },
      "id": "o0xuaNiAC49B"
    },
    {
      "cell_type": "code",
      "source": [
        "def read_data(path: str, name: str):\n",
        "    '''Reads csv file\n",
        "    \n",
        "    Args:\n",
        "        path (str): parent directory to file\n",
        "        name (str): type of csv to load (train or test)\n",
        "        \n",
        "    Returns:\n",
        "        pandas.core.frame.DataFrame of joined bodies and stances        \n",
        "    '''\n",
        "    df = pd.read_csv(f'{path}/{name}.csv')\n",
        "    return df"
      ],
      "metadata": {
        "id": "zvrI5EAYC4JX"
      },
      "id": "zvrI5EAYC4JX",
      "execution_count": null,
      "outputs": []
    },
    {
      "cell_type": "code",
      "source": [
        "def extract_columns(df: pd.core.frame.DataFrame, columns: list = ['Headline', 'articleBody', 'Stance'],\n",
        "                    new_columns: list = ['text_a', 'text_b', 'labels']):\n",
        "    '''Load certain columns of dataframe and transform to desired format\n",
        "    \n",
        "    Args:\n",
        "        df (pd.core.frame.DataFrame): DataFrame of extracted columns\n",
        "        columns (list): Column names to extract\n",
        "        new_columns (list): New column names\n",
        "    \n",
        "    Returns:\n",
        "        Extracted dataframe with new columns\n",
        "    '''\n",
        "    processed_df = df[columns]\n",
        "    processed_df.columns = new_columns\n",
        "    return processed_df"
      ],
      "metadata": {
        "id": "VbKL8OuXDBKG"
      },
      "id": "VbKL8OuXDBKG",
      "execution_count": null,
      "outputs": []
    },
    {
      "cell_type": "code",
      "source": [
        "def encod_labels(df):\n",
        "    '''Encod label strings to ints\n",
        "    \n",
        "    Args:\n",
        "        df (pd.core.frame.DataFrame): DataFrame to encod labels\n",
        "    \n",
        "    Returns:\n",
        "        df (pd.core.frame.DataFrame) with encoded labels\n",
        "    '''\n",
        "    labels = df['labels'].unique()\n",
        "    label_dict = {}\n",
        "    \n",
        "    for i, l in enumerate(labels):\n",
        "        label_dict[l] = i\n",
        "    \n",
        "    encoded_df = df.replace({\"labels\": label_dict})\n",
        "    return encoded_df, label_dict"
      ],
      "metadata": {
        "id": "Bgtn67aKDRD_"
      },
      "id": "Bgtn67aKDRD_",
      "execution_count": null,
      "outputs": []
    },
    {
      "cell_type": "code",
      "source": [
        "def load_data(path: str, name: str):\n",
        "    '''Read and process csv to desired format\n",
        "    \n",
        "    Args:\n",
        "        path (str): parent directory to file\n",
        "        name (str): type of csv to load (train or test)\n",
        "    \n",
        "    Returns:\n",
        "        Preprocessed data\n",
        "    '''\n",
        "    df = read_data(path, name)\n",
        "    processed_df = extract_columns(df)\n",
        "    encoded_df, l2e = encod_labels(processed_df)\n",
        "    return encoded_df, l2e\n",
        "\n",
        "train, l2e = load_data('data', 'train')\n",
        "test, _ = load_data('data', 'test')"
      ],
      "metadata": {
        "id": "3baYTyVBDBMb"
      },
      "id": "3baYTyVBDBMb",
      "execution_count": null,
      "outputs": []
    },
    {
      "cell_type": "code",
      "source": [
        ""
      ],
      "metadata": {
        "id": "CpdJYQrjDBOg"
      },
      "id": "CpdJYQrjDBOg",
      "execution_count": null,
      "outputs": []
    }
  ],
  "metadata": {
    "kernelspec": {
      "display_name": "Python 3 (ipykernel)",
      "language": "python",
      "name": "python3"
    },
    "language_info": {
      "codemirror_mode": {
        "name": "ipython",
        "version": 3
      },
      "file_extension": ".py",
      "mimetype": "text/x-python",
      "name": "python",
      "nbconvert_exporter": "python",
      "pygments_lexer": "ipython3",
      "version": "3.8.10"
    },
    "colab": {
      "name": "transformers.ipynb",
      "provenance": []
    }
  },
  "nbformat": 4,
  "nbformat_minor": 5
}